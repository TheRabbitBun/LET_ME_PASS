{
 "cells": [
  {
   "cell_type": "code",
   "execution_count": 1,
   "id": "d75eb1bc-682e-4066-a6ad-d0bb62077e2e",
   "metadata": {},
   "outputs": [
    {
     "ename": "SyntaxError",
     "evalue": "incomplete input (4096954931.py, line 2)",
     "output_type": "error",
     "traceback": [
      "\u001b[1;36m  Cell \u001b[1;32mIn[1], line 2\u001b[1;36m\u001b[0m\n\u001b[1;33m    print(I\u001b[0m\n\u001b[1;37m           ^\u001b[0m\n\u001b[1;31mSyntaxError\u001b[0m\u001b[1;31m:\u001b[0m incomplete input\n"
     ]
    }
   ],
   "source": [
    "ID = \"BC0210036\"\n",
    "print(ID)"
   ]
  },
  {
   "cell_type": "code",
   "execution_count": null,
   "id": "5a56c992-31a2-44c4-9628-fc176d15e2d1",
   "metadata": {},
   "outputs": [],
   "source": [
    "import random\n",
    "rdm = random.sample(range(1,10),4)\n",
    "print(rdm)"
   ]
  },
  {
   "cell_type": "code",
   "execution_count": null,
   "id": "317f7193-71e3-45cd-97a4-09c795db319a",
   "metadata": {},
   "outputs": [],
   "source": [
    "a = b = n = 0\n",
    "while a!=4:\n",
    "    a = b = n = 0\n",
    "    ipt = input('Enter 4 Numbers')\n",
    "    for i in ipt:\n",
    "        if("
   ]
  }
 ],
 "metadata": {
  "kernelspec": {
   "display_name": "Python 3 (ipykernel)",
   "language": "python",
   "name": "python3"
  },
  "language_info": {
   "codemirror_mode": {
    "name": "ipython",
    "version": 3
   },
   "file_extension": ".py",
   "mimetype": "text/x-python",
   "name": "python",
   "nbconvert_exporter": "python",
   "pygments_lexer": "ipython3",
   "version": "3.11.7"
  }
 },
 "nbformat": 4,
 "nbformat_minor": 5
}
